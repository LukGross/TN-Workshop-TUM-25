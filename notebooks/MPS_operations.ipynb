{
 "cells": [
  {
   "cell_type": "markdown",
   "metadata": {},
   "source": [
    "# Basic MPS/MPO operations\n",
    "This notebook implements some of the basic MPS Arithmetic as well as MPO-action on an MPS."
   ]
  },
  {
   "cell_type": "code",
   "execution_count": 1,
   "metadata": {},
   "outputs": [],
   "source": [
    "import numpy as np\n",
    "import opt_einsum as oe"
   ]
  },
  {
   "cell_type": "markdown",
   "metadata": {},
   "source": [
    "We start with initializing two random vectors of length $2^n$."
   ]
  },
  {
   "cell_type": "code",
   "execution_count": 2,
   "metadata": {},
   "outputs": [],
   "source": [
    "n=6\n",
    "vector_shape = 2**n\n",
    "v = np.random.random(vector_shape)\n",
    "w = np.random.random(vector_shape)"
   ]
  },
  {
   "cell_type": "markdown",
   "metadata": {},
   "source": [
    "Reshape those vectors to have $n$ binary indices."
   ]
  },
  {
   "cell_type": "code",
   "execution_count": 3,
   "metadata": {},
   "outputs": [],
   "source": [
    "\n",
    "mps_shape = (2,)*n\n",
    "v_reshaped = v.reshape(mps_shape)\n",
    "w_reshaped = w.reshape(mps_shape)"
   ]
  },
  {
   "cell_type": "markdown",
   "metadata": {},
   "source": [
    "## MPS Decomposition\n",
    "\n",
    "The decomposition iterates three main steps:\n",
    "* Reshape tensor as matrix with one index to the \"right\" and the rest as multiindex to the \"left\".\n",
    "* Decompose that matrix via a (truncated) SVD.\n",
    "* Contract the singular values with the right side\n",
    "\n",
    "The result is stored in a List of 3rd order arrays. With the following shapes\n",
    "$$[ (1, 2, \\alpha_1), (\\alpha_1, 2, \\alpha_2), \\dots, (\\alpha_{n-1}, 2, 1) ],$$\n",
    "where the $\\alpha_i$ are the bond dimensions."
   ]
  },
  {
   "cell_type": "code",
   "execution_count": 4,
   "metadata": {},
   "outputs": [],
   "source": [
    "from utils.numpy_ops import truncated_svd\n",
    "\n",
    "def MPS(tensor, max_bond=None):\n",
    "    shape = tensor.shape\n",
    "    MPS_tensors = []\n",
    "    shape_right = 1\n",
    "    for site in range(len(shape) - 1, 0, -1):\n",
    "        shape_phys = shape[site]\n",
    "        tensor_reshaped = tensor.reshape(-1, shape_phys * shape_right)                  # reshaping\n",
    "        U, S, V = truncated_svd(tensor_reshaped, max_bond)                              # SVD\n",
    "        tensor = U @ np.diag(S)                                                         # contracting the singular values\n",
    "        shape_left = len(S)\n",
    "        MPS_tensors = [V.reshape(shape_left, shape_phys, shape_right)] + MPS_tensors\n",
    "        shape_right = shape_left\n",
    "    MPS_tensors = [tensor.reshape(1, shape_phys, shape_right)] + MPS_tensors\n",
    "    return MPS_tensors\n"
   ]
  },
  {
   "cell_type": "markdown",
   "metadata": {},
   "source": [
    "We now use this function to decompose v_MPS and w_MPS"
   ]
  },
  {
   "cell_type": "code",
   "execution_count": 5,
   "metadata": {},
   "outputs": [
    {
     "name": "stdout",
     "output_type": "stream",
     "text": [
      "shapes of the tensors that make up v_MPS:\n",
      "[(1, 2, 2), (2, 2, 4), (4, 2, 8), (8, 2, 4), (4, 2, 2), (2, 2, 1)]\n"
     ]
    }
   ],
   "source": [
    "v_MPS = MPS(v_reshaped)\n",
    "w_MPS = MPS(w_reshaped)\n",
    "\n",
    "print(\"shapes of the tensors that make up v_MPS:\")\n",
    "print([core.shape for core in v_MPS])"
   ]
  },
  {
   "cell_type": "markdown",
   "metadata": {},
   "source": [
    "To compare the result with the starting point, we need to implement the contraction of the MPS. In python it is straightforward doing this with einsum."
   ]
  },
  {
   "cell_type": "code",
   "execution_count": 6,
   "metadata": {},
   "outputs": [],
   "source": [
    "def contract_MPS(mps):\n",
    "    einstr = (\"abc, cde, efg, ghi, ijk, klm\")\n",
    "    return oe.contract(einstr, *mps).squeeze()"
   ]
  },
  {
   "cell_type": "markdown",
   "metadata": {},
   "source": [
    "If we contract v_MPS, reshape it back into the vector shape and compare it to the initial v, we see that it has not changed along the way. Thats what we wanted!"
   ]
  },
  {
   "cell_type": "code",
   "execution_count": 7,
   "metadata": {},
   "outputs": [
    {
     "data": {
      "text/plain": [
       "True"
      ]
     },
     "execution_count": 7,
     "metadata": {},
     "output_type": "execute_result"
    }
   ],
   "source": [
    "v_contracted = contract_MPS(v_MPS)\n",
    "v_contracted = v_contracted.reshape(vector_shape)\n",
    "\n",
    "np.allclose(\n",
    "    v,\n",
    "    v_contracted\n",
    ")"
   ]
  },
  {
   "cell_type": "markdown",
   "metadata": {},
   "source": [
    "Does this still hold, if we compress during the decomposition?"
   ]
  },
  {
   "cell_type": "code",
   "execution_count": 8,
   "metadata": {},
   "outputs": [
    {
     "name": "stdout",
     "output_type": "stream",
     "text": [
      "Are v and v_compressed allclose?      False\n",
      "Maximum difference:                   0.10897062572889898\n"
     ]
    }
   ],
   "source": [
    "max_bond = int(2**(n/2)-2)\n",
    "v_compressed = MPS(v_reshaped, max_bond=max_bond)\n",
    "v_compressed = contract_MPS(v_compressed).reshape(vector_shape)\n",
    "\n",
    "print(\"Are v and v_compressed allclose?     \", np.allclose(v, v_compressed))\n",
    "print(\"Maximum difference:                  \", np. max(v - v_compressed))"
   ]
  },
  {
   "cell_type": "markdown",
   "metadata": {},
   "source": [
    "## Hadamrd Multiplication\n",
    "We realize elementwise multiplication using $n$ Kronecker delta tensors of 3rd order. For each site the Kronecker delta is contracted with the respective cores of the MPSs."
   ]
  },
  {
   "cell_type": "code",
   "execution_count": 9,
   "metadata": {},
   "outputs": [],
   "source": [
    "kron = np.zeros((2,2,2))\n",
    "kron[0,0,0] = 1\n",
    "kron[1,1,1] = 1\n",
    "\n",
    "\n",
    "def multiply_MPS_MPS(kron, mps1, mps2):\n",
    "    out = []\n",
    "    for i in range(len(mps1)):\n",
    "        shape_left = mps1[i].shape[0] * mps2[i].shape[0]\n",
    "        shape_phys = kron.shape[0]\n",
    "        shape_right = mps1[i].shape[2] * mps2[i].shape[2]\n",
    "        out += [\n",
    "            oe.contract(\"abc, dbf, gci -> dgafi\", kron, mps1[i], mps2[i]).reshape(\n",
    "                shape_left, shape_phys, shape_right\n",
    "            )\n",
    "        ]\n",
    "    return out"
   ]
  },
  {
   "cell_type": "markdown",
   "metadata": {},
   "source": [
    "Check again, if it works:"
   ]
  },
  {
   "cell_type": "code",
   "execution_count": 10,
   "metadata": {},
   "outputs": [
    {
     "data": {
      "text/plain": [
       "True"
      ]
     },
     "execution_count": 10,
     "metadata": {},
     "output_type": "execute_result"
    }
   ],
   "source": [
    "v_by_w = multiply_MPS_MPS(kron, v_MPS, w_MPS)\n",
    "v_by_w = contract_MPS(v_by_w).reshape(vector_shape)\n",
    "\n",
    "np.allclose(\n",
    "    v*w,\n",
    "    v_by_w\n",
    ")"
   ]
  },
  {
   "cell_type": "markdown",
   "metadata": {},
   "source": [
    "## Addition\n"
   ]
  },
  {
   "cell_type": "code",
   "execution_count": 11,
   "metadata": {},
   "outputs": [],
   "source": [
    "def add_MPS_MPS(mps1, mps2):\n",
    "    # first Block Matrix of shape\n",
    "    # [A_1, B_1]\n",
    "    out = [\n",
    "        np.zeros(\n",
    "            (\n",
    "                1,\n",
    "                mps1[0].shape[1],\n",
    "                mps1[0].shape[2] + mps2[0].shape[2],\n",
    "            )\n",
    "        )\n",
    "    ]\n",
    "    out[0][:, :, : mps1[0].shape[2]] = mps1[0]\n",
    "    out[0][:, :, mps1[0].shape[2] :] = mps2[0]\n",
    "\n",
    "    # middle block matrices\n",
    "    # [A_i,  0 ]\n",
    "    # [ 0 , B_i]\n",
    "    for i in range(1, len(mps1) - 1):\n",
    "        out += [\n",
    "            np.zeros(\n",
    "                (\n",
    "                    mps1[i].shape[0] + mps2[i].shape[0],\n",
    "                    mps1[i].shape[1],\n",
    "                    mps1[i].shape[2] + mps2[i].shape[2],\n",
    "                )\n",
    "            )\n",
    "        ]\n",
    "        out[-1][: mps1[i].shape[0], :, : mps1[i].shape[2]] = mps1[i]\n",
    "        out[-1][mps1[i].shape[0] :, :, mps1[i].shape[2] :] = mps2[i]\n",
    "    \n",
    "    # last block matrix\n",
    "    # [A_n]\n",
    "    # [B_n]\n",
    "    out += [\n",
    "        np.zeros(\n",
    "            (\n",
    "                mps1[-1].shape[0] + mps2[-1].shape[0],\n",
    "                mps1[-1].shape[1],\n",
    "                1,\n",
    "            )\n",
    "        )\n",
    "    ]\n",
    "    out[-1][: mps1[-1].shape[0], :, :] = mps1[-1]\n",
    "    out[-1][mps1[-1].shape[0] :, :, :] = mps2[-1]\n",
    "    return out"
   ]
  },
  {
   "cell_type": "code",
   "execution_count": 12,
   "metadata": {},
   "outputs": [
    {
     "data": {
      "text/plain": [
       "True"
      ]
     },
     "execution_count": 12,
     "metadata": {},
     "output_type": "execute_result"
    }
   ],
   "source": [
    "v_plus_w = add_MPS_MPS(v_MPS, w_MPS)\n",
    "v_plus_w = contract_MPS(v_plus_w).reshape(vector_shape)\n",
    "\n",
    "np.allclose(\n",
    "    v+w,\n",
    "    v_plus_w\n",
    ")"
   ]
  },
  {
   "cell_type": "markdown",
   "metadata": {},
   "source": [
    "## MPO action\n",
    "We start by generating a random Matrix A. Similar to the MPS case we reshape that matrix into binary indices."
   ]
  },
  {
   "cell_type": "code",
   "execution_count": 13,
   "metadata": {},
   "outputs": [],
   "source": [
    "A = np.random.random((2**n, 2**n))\n",
    "A_reshaped = A.reshape((2,2)*n)"
   ]
  },
  {
   "cell_type": "markdown",
   "metadata": {},
   "source": [
    "To keep track of which \"ingoing\" and \"outgoing\" indicies belong together, we reorder the binary indices. The new order has binary indicies of related to the same power of two next to each other."
   ]
  },
  {
   "cell_type": "code",
   "execution_count": 35,
   "metadata": {},
   "outputs": [
    {
     "name": "stdout",
     "output_type": "stream",
     "text": [
      "(0, 6, 1, 7, 2, 8, 3, 9, 4, 10, 5, 11)\n"
     ]
    }
   ],
   "source": [
    "MPO_ordering = ()\n",
    "for i in range(n):\n",
    "    MPO_ordering += (i,n+i)\n",
    "print(MPO_ordering)\n",
    "\n",
    "A_reordered = A_reshaped.transpose(MPO_ordering)"
   ]
  },
  {
   "cell_type": "markdown",
   "metadata": {},
   "source": [
    "#### MPO decomposition\n",
    "By combining neighbouring indices again, we can reuse the MPS decomposition."
   ]
  },
  {
   "cell_type": "code",
   "execution_count": 36,
   "metadata": {},
   "outputs": [
    {
     "name": "stdout",
     "output_type": "stream",
     "text": [
      "(1, 2, 2, 4)\n",
      "(4, 2, 2, 16)\n",
      "(16, 2, 2, 64)\n",
      "(64, 2, 2, 16)\n",
      "(16, 2, 2, 4)\n",
      "(4, 2, 2, 1)\n"
     ]
    }
   ],
   "source": [
    "A_MPO = MPS(A_reordered.reshape((4,)*n))                 # combining neighbouring binary indices\n",
    "for i, core in enumerate(A_MPO):\n",
    "    shape = core.shape\n",
    "    A_MPO[i] = core.reshape(shape[0],2,2,shape[-1])     # splitting in and outgoing indices\n",
    "    print(A_MPO[i].shape)"
   ]
  },
  {
   "cell_type": "markdown",
   "metadata": {},
   "source": [
    "#### Applying an MPO\n",
    "\n",
    "Applying an MPO to an MPS is straightforward:\n",
    "* contract the ingoing index with the respective mps physical index\n",
    "* reshape core to merge bond indices"
   ]
  },
  {
   "cell_type": "code",
   "execution_count": 37,
   "metadata": {},
   "outputs": [],
   "source": [
    "def apply_MPO(mpo, mps):\n",
    "    out = []\n",
    "    for i in range(len(mpo)):\n",
    "        shape_left = mpo[i].shape[0] * mps[i].shape[0]\n",
    "        shape_phys = mpo[i].shape[1]\n",
    "        shape_right = mpo[i].shape[3] * mps[i].shape[2]\n",
    "        out += [np.einsum(\"abcd, ecg -> aebdg\", mpo[i], mps[i])]        # contraction\n",
    "        out[-1] = out[-1].reshape(shape_left, shape_phys, shape_right)  # merging\n",
    "    return out"
   ]
  },
  {
   "cell_type": "markdown",
   "metadata": {},
   "source": [
    "#### Check"
   ]
  },
  {
   "cell_type": "code",
   "execution_count": 38,
   "metadata": {},
   "outputs": [
    {
     "data": {
      "text/plain": [
       "True"
      ]
     },
     "execution_count": 38,
     "metadata": {},
     "output_type": "execute_result"
    }
   ],
   "source": [
    "A_v_via_MPO = apply_MPO(A_MPO, v_MPS)\n",
    "A_v_via_MPO = contract_MPS(A_v_via_MPO).reshape(vector_shape)\n",
    "\n",
    "np.allclose(\n",
    "    A_v_via_MPO,\n",
    "    A@v\n",
    ")"
   ]
  }
 ],
 "metadata": {
  "kernelspec": {
   "display_name": ".venv",
   "language": "python",
   "name": "python3"
  },
  "language_info": {
   "codemirror_mode": {
    "name": "ipython",
    "version": 3
   },
   "file_extension": ".py",
   "mimetype": "text/x-python",
   "name": "python",
   "nbconvert_exporter": "python",
   "pygments_lexer": "ipython3",
   "version": "3.9.19"
  }
 },
 "nbformat": 4,
 "nbformat_minor": 2
}
