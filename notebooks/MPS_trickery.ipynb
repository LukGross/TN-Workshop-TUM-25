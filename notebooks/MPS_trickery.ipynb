{
 "cells": [
  {
   "cell_type": "code",
   "execution_count": 13,
   "metadata": {},
   "outputs": [],
   "source": [
    "import numpy as np\n",
    "\n",
    "n=8\n",
    "v = np.random.random(2**n)\n",
    "w = np.random.random(2**n)\n",
    "A = np.random.random((2**n, 2**n))"
   ]
  },
  {
   "cell_type": "code",
   "execution_count": 14,
   "metadata": {},
   "outputs": [],
   "source": [
    "from utils.MPS_operations import truncated_svd"
   ]
  },
  {
   "cell_type": "code",
   "execution_count": null,
   "metadata": {},
   "outputs": [],
   "source": [
    "def MPS(tensor, max_bond=None):\n",
    "    shape = tensor.shape\n",
    "    MPS_tensors = []\n",
    "    shape_right = 1\n",
    "    for site in range(len(shape) - 1, 0, -1):\n",
    "        shape_phys = shape[site]\n",
    "        U, S, V = truncated_svd(tensor.reshape(-1, shape_phys * shape_right), max_bond)\n",
    "        tensor = U @ np.diag(S)\n",
    "        shape_left = len(S)\n",
    "        MPS_tensors = [V.reshape(shape_left, shape_phys, shape_right)] + MPS_tensors\n",
    "        shape_right = shape_left\n",
    "    MPS_tensors = [tensor.reshape(1, shape_phys, shape_right)] + MPS_tensors\n",
    "    return MPS_tensors\n"
   ]
  },
  {
   "cell_type": "code",
   "execution_count": 4,
   "metadata": {},
   "outputs": [
    {
     "data": {
      "text/plain": [
       "(1, 2, 4, 8, 16, 32, 16, 8, 4, 2, 1)"
      ]
     },
     "execution_count": 4,
     "metadata": {},
     "output_type": "execute_result"
    }
   ],
   "source": [
    "bond_dims_of_MPS(A_MPS)"
   ]
  },
  {
   "cell_type": "code",
   "execution_count": 5,
   "metadata": {},
   "outputs": [],
   "source": [
    "A_MPS = compress_MPS(A_MPS, 15)"
   ]
  },
  {
   "cell_type": "code",
   "execution_count": 6,
   "metadata": {},
   "outputs": [
    {
     "data": {
      "text/plain": [
       "(1, 2, 4, 8, 15, 15, 15, 8, 4, 2, 1)"
      ]
     },
     "execution_count": 6,
     "metadata": {},
     "output_type": "execute_result"
    }
   ],
   "source": [
    "bond_dims_of_MPS(A_MPS)"
   ]
  },
  {
   "cell_type": "code",
   "execution_count": 7,
   "metadata": {},
   "outputs": [],
   "source": [
    "from utils.mpos import diff_cores\n",
    "\n",
    "findiff = diff_cores(1, 0, 8, 1)"
   ]
  },
  {
   "cell_type": "code",
   "execution_count": 8,
   "metadata": {},
   "outputs": [
    {
     "data": {
      "text/plain": [
       "(1, 3, 3, 3, 3, 3, 3, 5, 1)"
      ]
     },
     "execution_count": 8,
     "metadata": {},
     "output_type": "execute_result"
    }
   ],
   "source": [
    "bond_dims_of_MPO(findiff)"
   ]
  },
  {
   "cell_type": "code",
   "execution_count": 9,
   "metadata": {},
   "outputs": [
    {
     "data": {
      "text/plain": [
       "(1, 6, 12, 24, 45, 45, 45, 40, 4)"
      ]
     },
     "execution_count": 9,
     "metadata": {},
     "output_type": "execute_result"
    }
   ],
   "source": [
    "bond_dims_of_MPO(apply_MPO(findiff, A_MPS))"
   ]
  },
  {
   "cell_type": "code",
   "execution_count": null,
   "metadata": {},
   "outputs": [],
   "source": []
  }
 ],
 "metadata": {
  "kernelspec": {
   "display_name": ".venv",
   "language": "python",
   "name": "python3"
  },
  "language_info": {
   "codemirror_mode": {
    "name": "ipython",
    "version": 3
   },
   "file_extension": ".py",
   "mimetype": "text/x-python",
   "name": "python",
   "nbconvert_exporter": "python",
   "pygments_lexer": "ipython3",
   "version": "3.9.19"
  }
 },
 "nbformat": 4,
 "nbformat_minor": 2
}
